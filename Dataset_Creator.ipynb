{
 "cells": [
  {
   "cell_type": "markdown",
   "metadata": {},
   "source": [
    "Il faudrait Donner la possibilité à l'utilisateur, soit de traiter tous les fichiers qui sont dans le current folder, soit de traiter spécifiquement un seul fichier.\n",
    "\n",
    "Il faudrait aussi verifier si le fichier .json existe déjà, pour savoir si on fait une update ou si les data ont déjà été récupérées"
   ]
  },
  {
   "cell_type": "markdown",
   "metadata": {},
   "source": [
    "#### Import packages"
   ]
  },
  {
   "cell_type": "code",
   "execution_count": 6,
   "metadata": {},
   "outputs": [],
   "source": [
    "# Image processing\n",
    "from PIL import Image \n",
    "import json\n",
    "\n",
    "# for working on excel file\n",
    "import xlrd  \n",
    "\n",
    "# To get a list of the file in a folder\n",
    "from glob import glob  \n",
    "\n",
    "import numpy as np\n",
    "import time"
   ]
  },
  {
   "cell_type": "code",
   "execution_count": 10,
   "metadata": {},
   "outputs": [],
   "source": [
    "# List all .xlsm files (contain BB coordinate and orientation) in the folder 'data'\n",
    "xls_list = glob(\"./data/*.xlsm\")\n",
    "\n",
    "# List all .tif images (where BB are annotated) in the folder 'data'\n",
    "tif_list = glob(\"./data/*.tif\")\n",
    "\n",
    "if len(xls_list) != len(tif_list):\n",
    "    raise Exception(\"A xls/tif file is missing: find the missing file or remove the extra file\" )\n",
    "    \n",
    "for i in range(max(len(xls_list), len(tif_list))):\n",
    "    if xls_list[i].replace('.xlsm', '') != tif_list[i].replace('.tif', ''):\n",
    "        raise Exception(\"{} \\n or \\n {} is not appariate with a tif/xsl\".format(xls_list[i], tif_list[i]))\n",
    "        \n",
    "del tif_list"
   ]
  },
  {
   "cell_type": "code",
   "execution_count": 8,
   "metadata": {
    "scrolled": true
   },
   "outputs": [
    {
     "name": "stdout",
     "output_type": "stream",
     "text": [
      "Extraction over\n"
     ]
    }
   ],
   "source": [
    "# Size of the expected image output\n",
    "# Cropped image is a square with odd number of pixels (32 pixels askes => 33 outputed) like this the centriole is exactly in the middle\n",
    "size_img = 32\n",
    "\n",
    "# Define Image size openable with PIL (default size is too small)\n",
    "Image.MAX_IMAGE_PIXELS = 10000000000\n",
    "\n",
    "# Initialisation of the centriole (~Basal body) coordinate and angle list\n",
    "count_img = 0\n",
    "\n",
    "# Do you want to save the database:\n",
    "SAVE_DB = True\n",
    "\n",
    "# Instantiate the dictionnary of unwanted centriole\n",
    "centriole_trouble = {'Nan_in_image' : [], 'Black_centriole' : [], 'Angle' : [], 'Coordinates' : [], 'ID' :  []}\n",
    "\n",
    "# Iteration trough the excel file\n",
    "for xls_name in xls_list:\n",
    "    \n",
    "    t1 = time.time()\n",
    "    \n",
    "    tif_name = xls_name.replace('.xlsm', '.tif')\n",
    "    file_name = xls_name.replace('.xlsm', '')\n",
    "    file_name = file_name[file_name.index('\\\\')+1:]\n",
    "    \n",
    "    print(\"File: {} \".format(file_name), end ='')\n",
    "    #print(\"File: {}       {}/{}     time: \".format(file_name, count_img + 1, len(xls_list), t2-t1), end ='')\n",
    "\n",
    "    \n",
    "    centriole_database = {file_name: [] }\n",
    "\n",
    "    # Open the image\n",
    "    with Image.open(tif_name) as tif_file:\n",
    "    \n",
    "        # Open the excel file \n",
    "        with xlrd.open_workbook(xls_name) as xls_file:\n",
    "            # Go to appropriate sheet (index 0)\n",
    "            xls_sheet = xls_file.sheet_by_index(0)\n",
    "\n",
    "        # In the Excel file, the coordinate of BB starts at row 7\n",
    "        # This variable will iterate a reinitialisation is required after each xls file\n",
    "        count_centriole = 0\n",
    "\n",
    "        for row in range(xls_sheet.nrows - 7):\n",
    "            \n",
    "\n",
    "            # Extract the centriole on the image\n",
    "            if isinstance(xls_sheet.cell_value(row + 7, 3), (float, int)):\n",
    "                X_to_crop = xls_sheet.cell_value(row + 7, 3) - size_img//2\n",
    "                Y_to_crop = xls_sheet.cell_value(row + 7, 4) - size_img//2\n",
    "                centriole_extracted = tif_file.crop((X_to_crop, Y_to_crop, X_to_crop + size_img, Y_to_crop + size_img))\n",
    "                \n",
    "                count_centriole += 1\n",
    "           \n",
    "\n",
    "            \n",
    "                # Try to transform the extracted centriole into numpy array (Nan rais an error)\n",
    "                try:\n",
    "                    centriole_extracted = np.asarray(centriole_extracted, dtype = \"uint16\")\n",
    "\n",
    "                except:\n",
    "                    trouble_dictionnary['Nan_in_image'].append(coord = { \"file_name\" : file_name,\n",
    "                                                                        \"ID\" : count_centriole,\n",
    "                                                                         \"X\" : xls_sheet.cell_value(row + 7, 3),\n",
    "                                                                         \"Y\" : xls_sheet.cell_value(row + 7, 4), \n",
    "                                                                         \"angle\" : xls_sheet.cell_value(row + 7, 1)})\n",
    "\n",
    "                # Try to aggregate all information of the centriole\n",
    "                try:   \n",
    "                    coord = {\"ID\": count_centriole,\n",
    "                             \"X\" : xls_sheet.cell_value(row + 7 , 3),\n",
    "                             \"Y\" : xls_sheet.cell_value(row + 7 , 4), \n",
    "                             \"angle\" : xls_sheet.cell_value(row + 7, 1),\n",
    "                             \"image\" : centriole_extracted.tolist()}  \n",
    "                except:\n",
    "                    print('trouble in the creation of centriole coordinate')\n",
    "\n",
    "\n",
    "                # Check if we have value \n",
    "                if not isinstance(coord[\"ID\"], (float, int)):\n",
    "                    coord[\"file_name\"] = file_name\n",
    "                    centriole_trouble['ID'].append(coord)\n",
    "                    print('angle => ID: {}'.format(coord['ID']))\n",
    "\n",
    "                elif not isinstance(coord[\"X\"], (float, int)) or not isinstance(coord[\"Y\"], (float, int)):\n",
    "                    coord[\"file_name\"] = file_name\n",
    "                    centriole_trouble['Coordinates'].append(coord)\n",
    "                    print('angle => ID: {}, X: {} - Y: {}'.format(coord['ID'], coord['X'], coord['Y']))\n",
    "\n",
    "                elif not isinstance(coord[\"angle\"], (float, int)):\n",
    "                    coord[\"file_name\"] = file_name\n",
    "                    centriole_trouble['Angle'].append(coord)\n",
    "                    print('angle => ID: {}, Angle: {}'.format(coord['ID'], coord['angle']))\n",
    "\n",
    "                elif centriole_extracted.max() == 0:\n",
    "                    coord[\"file_name\"] = file_name\n",
    "                    centriole_trouble['Black_centriole'].append(coord)\n",
    "                    print('angle => ID: {}'.format(coord['ID']))\n",
    "\n",
    "                else:   \n",
    "                    try: \n",
    "                        # Add the centriole to the dictionnary\n",
    "                        centriole_database[file_name].append(coord)\n",
    "                    except: \n",
    "                        print('centriole not append')\n",
    "                        \n",
    "        #print(\"     centriole treated: {} \\n\".format(len(centriole_database[file_name])))\n",
    "        count_img += 1\n",
    "    \n",
    "    \n",
    "    #Save the database\n",
    "    if SAVE_DB:\n",
    "        with open((file_name + '.json'), 'w') as output: ## Verifier que les fichiers tif se finissent bien en '.tif'\n",
    "            json.dump(centriole_database, output)\n",
    "        \n",
    "    t2 = time.time()\n",
    "    print(\"     {} centrioles    {}/{}     time: {:.1f}s\".format(len(centriole_database[file_name]), count_img, len(xls_list), t2-t1))\n",
    "    \n",
    "        \n",
    "# Save the list of problematic centriole\n",
    "with open('centriole_trouble_list.json', 'w') as output:\n",
    "    json.dump(centriole_trouble, output)\n",
    "    \n",
    "print('Extraction over')\n"
   ]
  },
  {
   "cell_type": "code",
   "execution_count": 9,
   "metadata": {},
   "outputs": [
    {
     "data": {
      "text/plain": [
       "[]"
      ]
     },
     "execution_count": 9,
     "metadata": {},
     "output_type": "execute_result"
    }
   ],
   "source": [
    "xls_list"
   ]
  },
  {
   "cell_type": "code",
   "execution_count": null,
   "metadata": {},
   "outputs": [],
   "source": []
  }
 ],
 "metadata": {
  "kernelspec": {
   "display_name": "Python 3",
   "language": "python",
   "name": "python3"
  },
  "language_info": {
   "codemirror_mode": {
    "name": "ipython",
    "version": 3
   },
   "file_extension": ".py",
   "mimetype": "text/x-python",
   "name": "python",
   "nbconvert_exporter": "python",
   "pygments_lexer": "ipython3",
   "version": "3.8.6"
  }
 },
 "nbformat": 4,
 "nbformat_minor": 4
}
