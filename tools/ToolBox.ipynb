{
 "cells": [
  {
   "cell_type": "code",
   "execution_count": 1,
   "metadata": {},
   "outputs": [],
   "source": [
    "import json\n",
    "import csv\n",
    "import math"
   ]
  },
  {
   "cell_type": "code",
   "execution_count": null,
   "metadata": {},
   "outputs": [],
   "source": [
    "def json_loader(file_name):\n",
    "    \"\"\"Open a json file\n",
    "    Argument:\n",
    "        -> file_name: the name of the .json that you want to open\"\"\"\n",
    "    with open(file_name) as myfile:\n",
    "        data = json.load(myfile)\n",
    "    return data"
   ]
  },
  {
   "cell_type": "code",
   "execution_count": null,
   "metadata": {},
   "outputs": [],
   "source": [
    "def csv_saver(var_to_save, path, mode = 'a'):\n",
    "    \"\"\" Function that append a variable in a csv file\n",
    "    Arguments:\n",
    "        -> var_to_sav: variable that you want to save (a list might be require: not sure)\n",
    "        -> path: complete path of the file that you want to create/append\"\"\"\n",
    "    \n",
    "    with open(path, mode, newline='') as myfile:\n",
    "        wr = csv.writer(myfile, quoting=csv.QUOTE_ALL)\n",
    "        wr.writerow(var_to_save)"
   ]
  },
  {
   "cell_type": "code",
   "execution_count": null,
   "metadata": {},
   "outputs": [],
   "source": [
    "def csv_loader(path):\n",
    "    with open(path) as csv_file:\n",
    "        csv_reader = csv.reader(csv_file, delimiter=',')\n",
    "    \n",
    "    return csv_reader"
   ]
  },
  {
   "cell_type": "code",
   "execution_count": null,
   "metadata": {},
   "outputs": [],
   "source": [
    "def show_centriole(image):\n",
    "    \"\"\"Show image with landmarks\"\"\"\n",
    "    plt.imshow(image)\n",
    "    plt.pause(0.001)  # pause a bit so that plots are updated"
   ]
  },
  {
   "cell_type": "code",
   "execution_count": null,
   "metadata": {},
   "outputs": [],
   "source": [
    "def angle_from_coordinates(point_a, point_b):\n",
    "    \"\"\"Function that return (in degrees) the angle between 2 points in cartesian geometry\n",
    "    Arguments: \n",
    "        -> point_a & point_b: a list containing [X_coordinates, Y_coordinates]\"\"\"\n",
    "    \n",
    "    return math.degrees(math.atan2(point_b[1]-point_a[1], point_b[0]-point_a[0]))"
   ]
  },
  {
   "cell_type": "code",
   "execution_count": 1,
   "metadata": {},
   "outputs": [],
   "source": [
    "def segment_length(point_a, point_b):\n",
    "    \"\"\"Function that calculate the distance between 2 points (pythagore)\n",
    "    Arguments: \n",
    "        -> point_a & point_b: a list containing [X_coordinates, Y_coordinates]\"\"\"\n",
    "    return math.sqrt((point_b[0]-point_a[0])**2 + (point_b[1]-point_a[1])**2)"
   ]
  },
  {
   "cell_type": "code",
   "execution_count": 22,
   "metadata": {},
   "outputs": [],
   "source": [
    "def slope(point_a, point_b):\n",
    "    \"\"\"Function that calculate the slope of a line between 2 coordinates:\n",
    "    \n",
    "    Arguments:\n",
    "        > point_a & point_b: a list containing [X_coordinates, Y_coordinates]\"\"\"\n",
    "    if (point_b[0]-point_a[0]) == 0:\n",
    "        slope = 9999999\n",
    "    else:\n",
    "        slope = (point_b[1]-point_a[1])/(point_b[0]-point_a[0])\n",
    "        \n",
    "    return slope"
   ]
  },
  {
   "cell_type": "code",
   "execution_count": 23,
   "metadata": {},
   "outputs": [],
   "source": [
    "def origin(point_a, a_slope):\n",
    "    \"\"\"Compute the origine of a line knowing its slope\n",
    "    Arguments:\n",
    "        -> point_a: a list of type [X_coordinate, Y_coordinate]\n",
    "        -> slope: the slope of the line\"\"\"\n",
    "    \n",
    "    \n",
    "    return point_a[1] - a_slope*point_a[0]  "
   ]
  },
  {
   "cell_type": "code",
   "execution_count": 24,
   "metadata": {},
   "outputs": [],
   "source": [
    "def get_segment_slope_and_origin(segments_coordinates):\n",
    "    \"\"\"Function that return the slope and origin of segments as a tuple\n",
    "    Arguments:\n",
    "        -> segments_coordinates: a list of tuple coordinates [(X_coordinates, Y_coordinates), (X_coordinates, Y_coordinates)...]\"\"\"\n",
    "    \n",
    "    output = []\n",
    "    \n",
    "    for i in range(len(segments_coordinates)-1):\n",
    "        a = slope(segments_coordinates[i], segments_coordinates[i+1])\n",
    "        b = origin(segments_coordinates[i], a)\n",
    "        \n",
    "        output.append((a, b))\n",
    "        \n",
    "    return output  "
   ]
  },
  {
   "cell_type": "code",
   "execution_count": 39,
   "metadata": {},
   "outputs": [],
   "source": [
    "def orthogonal_projection(point_a, a_slope, an_origin):\n",
    "    \"\"\" Function that return the X & Y coordinates of the orthogonal projection of a point on a line\n",
    "    Arguments:\n",
    "        -> point_a: X & Y coordinates of a point\n",
    "        -> a_slope: the slope of the line\n",
    "        -> an_origin: the origin of the line\"\"\"\n",
    "    \n",
    "    x = point_a[0]\n",
    "    y = point_a[1]\n",
    "    a = a_slope\n",
    "    b = an_origin\n",
    "    \n",
    "    c = y+(1/a)*x\n",
    "\n",
    "    proj_x = round((c-b)/(a+1/a),5)\n",
    "    proj_y = round(a*proj_x+b,5)\n",
    "    \n",
    "    return proj_x, proj_y   "
   ]
  },
  {
   "cell_type": "code",
   "execution_count": null,
   "metadata": {},
   "outputs": [],
   "source": []
  }
 ],
 "metadata": {
  "kernelspec": {
   "display_name": "Python 3",
   "language": "python",
   "name": "python3"
  },
  "language_info": {
   "codemirror_mode": {
    "name": "ipython",
    "version": 3
   },
   "file_extension": ".py",
   "mimetype": "text/x-python",
   "name": "python",
   "nbconvert_exporter": "python",
   "pygments_lexer": "ipython3",
   "version": "3.8.6"
  }
 },
 "nbformat": 4,
 "nbformat_minor": 4
}
