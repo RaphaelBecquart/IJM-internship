{
 "cells": [
  {
   "cell_type": "code",
   "execution_count": 7,
   "metadata": {},
   "outputs": [],
   "source": [
    "import os\n",
    "\n",
    "from glob import glob"
   ]
  },
  {
   "cell_type": "code",
   "execution_count": 35,
   "metadata": {},
   "outputs": [],
   "source": [
    "xlsm_files = glob(\"./*.xlsm\")\n",
    "tif_files = glob(\"./*.tif\")\n",
    "\n",
    "suffix = [\" (v3_2c)\", \" (v3_1c)\",\"_stitched\"]\n",
    "corpse = [\"100-\",\"100x-\", \"_100x\", \"_63x\", \"_10x\", \"_5x\", \"MAX_\", \"c2_\",\"c1-\", \"c2-\", \"merge-\", \"merge_\", \"root_\", \"root-\", \"root100x-\", \"root100x_\", \"rootlet-\", \"rootlets-\", \"rootletin_\"]"
   ]
  },
  {
   "cell_type": "code",
   "execution_count": 37,
   "metadata": {},
   "outputs": [],
   "source": [
    "files = glob('./*')\n",
    "for file in files:\n",
    "    replacer = file.lower()\n",
    "    os.rename(file, replacer)"
   ]
  },
  {
   "cell_type": "code",
   "execution_count": 36,
   "metadata": {},
   "outputs": [],
   "source": [
    "for file in xlsm_files:\n",
    "    for sfx in suffix:\n",
    "        try:\n",
    "            os.rename(file, file[:file.index(sfx)]+\".xlsm\")\n",
    "            file = file[:file.index(sfx)]+\".xlsm\"\n",
    "        except:\n",
    "            0\n",
    "            \n",
    "\n",
    "for file in tif_files:\n",
    "    for sfx in suffix:\n",
    "        try:\n",
    "            os.rename(file, file[:file.index(sfx)]+\".tif\")\n",
    "            file = file[:file.index(sfx)]+\".tif\"\n",
    "        except:\n",
    "            pass\n"
   ]
  },
  {
   "cell_type": "code",
   "execution_count": 33,
   "metadata": {},
   "outputs": [],
   "source": [
    "files = glob('./*')\n",
    "for file in files:\n",
    "    for cpse in corpse:\n",
    "        try:\n",
    "            os.rename(file, file[:file.index(cpse)] + file[file.index(cpse)+len(cpse):])\n",
    "            file = file[:file.index(cpse)] + file[file.index(cpse)+len(cpse):]\n",
    "        \n",
    "        except:\n",
    "            0"
   ]
  },
  {
   "cell_type": "code",
   "execution_count": 11,
   "metadata": {},
   "outputs": [],
   "source": [
    "files = glob('./*')\n",
    "for file in files:\n",
    "    replacer = file.replace('Smed_', '')\n",
    "    os.rename(file, replacer)"
   ]
  },
  {
   "cell_type": "code",
   "execution_count": 17,
   "metadata": {},
   "outputs": [],
   "source": []
  },
  {
   "cell_type": "code",
   "execution_count": 13,
   "metadata": {},
   "outputs": [],
   "source": [
    "files = glob('./*')\n",
    "for file in files:\n",
    "    replacer = file.replace('rootletin', '')\n",
    "    os.rename(file, replacer)"
   ]
  },
  {
   "cell_type": "code",
   "execution_count": 14,
   "metadata": {},
   "outputs": [],
   "source": [
    "files = glob('./*')\n",
    "for file in files:\n",
    "    replacer = file.replace('unc22', 'wt')\n",
    "    os.rename(file, replacer)"
   ]
  },
  {
   "cell_type": "code",
   "execution_count": null,
   "metadata": {},
   "outputs": [],
   "source": [
    "files = glob('./*')\n",
    "for file in files:\n",
    "    replacer = file.replace('-', '_')\n",
    "    os.rename(file, replacer)"
   ]
  },
  {
   "cell_type": "code",
   "execution_count": 15,
   "metadata": {},
   "outputs": [],
   "source": [
    "files = glob('./*')\n",
    "for file in files:\n",
    "    replacer = file.replace('__', '_')\n",
    "    os.rename(file, replacer)"
   ]
  }
 ],
 "metadata": {
  "kernelspec": {
   "display_name": "Python 3",
   "language": "python",
   "name": "python3"
  },
  "language_info": {
   "codemirror_mode": {
    "name": "ipython",
    "version": 3
   },
   "file_extension": ".py",
   "mimetype": "text/x-python",
   "name": "python",
   "nbconvert_exporter": "python",
   "pygments_lexer": "ipython3",
   "version": "3.8.5"
  }
 },
 "nbformat": 4,
 "nbformat_minor": 4
}
