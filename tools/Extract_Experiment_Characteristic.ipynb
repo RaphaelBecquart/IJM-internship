{
 "cells": [
  {
   "cell_type": "code",
   "execution_count": 1,
   "metadata": {},
   "outputs": [],
   "source": [
    "# Image processing\n",
    "from PIL import Image\n",
    "import numpy as np\n",
    "import math\n",
    "\n",
    "import json\n",
    "\n",
    "# for working on excel file\n",
    "import pylightxl as xl\n",
    "\n",
    "# To get a list of the file in a folder\n",
    "from glob import glob  "
   ]
  },
  {
   "cell_type": "code",
   "execution_count": 2,
   "metadata": {},
   "outputs": [],
   "source": [
    "run_exemple = True"
   ]
  },
  {
   "cell_type": "code",
   "execution_count": 2,
   "metadata": {},
   "outputs": [],
   "source": [
    "def get_value_in_col(xls_sheet, col, starting_line): #this function has been updated 15/04/2021\n",
    "    row = starting_line\n",
    "    value = xls_sheet.index(row, col)\n",
    "    value_list = []\n",
    "    \n",
    "    while value != '':\n",
    "        value_list.append(value)\n",
    "        row += 1\n",
    "        value = xls_sheet.index(row, col)\n",
    "    \n",
    "    return value_list"
   ]
  },
  {
   "cell_type": "code",
   "execution_count": 1,
   "metadata": {},
   "outputs": [],
   "source": [
    "def get_xls_values(xls_file_name): #this function has been updated 15/04/2021\n",
    "    \"\"\"Function that extract all informations from the excel file on which worms and microscopy characteristics are stored:\n",
    "        -midline\n",
    "        -edge\n",
    "        -magnification\n",
    "        -worm orientation\n",
    "        -image_shift (if the analysis with ImageJ has been performed on the 63x/100x magnification directly or on the 10x-63/100x overlap)\n",
    "        -worm integrity: is the worm full? Head? Body? Tail?\n",
    "        ...\n",
    "    \"\"\"\n",
    "    db = xl.readxl(fn=xls_file_name, ws=('Datas', 'Résultats')) \n",
    "    #seems like row indexing starts @1 instead of 0\n",
    "    xls_sheet = db.ws(ws='Datas')\n",
    "    xls_sheet_2 = db.ws(ws='Résultats')\n",
    "    \n",
    "    dataset = {'file_name': xls_file_name,\n",
    "               'image_shift' : { 'x' : xls_sheet.index(row=1, col=9),\n",
    "                                 'y' : xls_sheet.index(row=2, col=9)},\n",
    "               'worm_midline': { 'x' : get_value_in_col(xls_sheet,8,12),\n",
    "                                 'y' : get_value_in_col(xls_sheet,9,12)},\n",
    "               'worm_edge' : { 'x' : get_value_in_col(xls_sheet,12,12),\n",
    "                               'y' : get_value_in_col(xls_sheet,13,12)},\n",
    "               'worm_orientation': xls_sheet.index(row=2, col=4),\n",
    "               'microscope_magnification': xls_sheet.index(row=1, col=4),\n",
    "               'microscope_pixel_size_in_nm' : xls_sheet.index(row=1, col=5),\n",
    "               'image_magnification'         : xls_sheet.index(row=3, col=4), \n",
    "               'image_pixel_size_in_um'      : xls_sheet.index(row=3, col=5), \n",
    "               'worm_integrity'              : xls_sheet.index(row=1, col=13),\n",
    "               'fit_edge_and_midline'        : xls_sheet.index(row=2, col=13),\n",
    "               'optional_width'              : xls_sheet.index(row=2, col=13),\n",
    "               'approximate_real_distance'   : xls_sheet_2.index(row=1, col=4),\n",
    "               'approximative_length/with'   : xls_sheet_2.index(row=2, col=2),\n",
    "               'left-right_difference'       : xls_sheet_2.index(row=1, col=16)}\n",
    "\n",
    "    return dataset\n"
   ]
  }
 ],
 "metadata": {
  "kernelspec": {
   "display_name": "Python 3",
   "language": "python",
   "name": "python3"
  },
  "language_info": {
   "codemirror_mode": {
    "name": "ipython",
    "version": 3
   },
   "file_extension": ".py",
   "mimetype": "text/x-python",
   "name": "python",
   "nbconvert_exporter": "python",
   "pygments_lexer": "ipython3",
   "version": "3.8.6"
  }
 },
 "nbformat": 4,
 "nbformat_minor": 4
}
