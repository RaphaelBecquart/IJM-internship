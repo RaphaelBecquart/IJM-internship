{
 "cells": [
  {
   "cell_type": "code",
   "execution_count": 2,
   "metadata": {},
   "outputs": [],
   "source": [
    "# Image processing\n",
    "from PIL import Image\n",
    "import numpy as np\n",
    "import math\n",
    "\n",
    "import json\n",
    "\n",
    "# for working on excel file\n",
    "import pylightxl as xl\n",
    "\n",
    "# To get a list of the file in a folder\n",
    "from glob import glob  "
   ]
  },
  {
   "cell_type": "code",
   "execution_count": 2,
   "metadata": {},
   "outputs": [],
   "source": [
    "run_exemple = True"
   ]
  },
  {
   "cell_type": "code",
   "execution_count": 5,
   "metadata": {},
   "outputs": [],
   "source": [
    "def get_value_in_col(xls_sheet, col, starting_line):\n",
    "    line = starting_line\n",
    "    value = xls_sheet.cell_value(line, col)\n",
    "    value_list = []\n",
    "    \n",
    "    while value != '':\n",
    "        value_list.append(value)\n",
    "        line += 1\n",
    "        value = xls_sheet.cell_value(line, col)\n",
    "    \n",
    "    return value_list"
   ]
  },
  {
   "cell_type": "code",
   "execution_count": 3,
   "metadata": {},
   "outputs": [],
   "source": [
    "def get_xls_values(xls_file_name):\n",
    "    \"\"\"Function that extract all informations from the excel file on which worms and microscopy characteristics are stored:\n",
    "        -midline\n",
    "        -edge\n",
    "        -magnification\n",
    "        -worm orientation\n",
    "        -image_shift (if the analysis with ImageJ has been performed on the 63x/100x magnification directly or on the 10x-63/100x overlap)\n",
    "        -worm integrity: is the worm full? Head? Body? Tail?\n",
    "        ...\n",
    "    \"\"\"\n",
    "    db = xl.readxl(fn='./to_analyse/160331_Vfl1_rootletin_full_10.xlsm', ws=('Datas', 'Résultats')) #WORK ON DICT CREATION\n",
    "    #seems like row indexing starts @1 instead of 0\n",
    "    dataset = {'file_name': xls_file_name,\n",
    "               'image_shift' : { 'x' : db.ws(ws='Datas').index(row=1, col=9),\n",
    "                                 'y' : db.ws(ws='Datas').index(row=2, col=9)},\n",
    "               'worm_midline': { 'x' : db.ws(ws='Datas').index(row=8, col=12),\n",
    "                                 'y' : db.ws(ws='Datas').index(row=9, col=12)},\n",
    "               'worm_edge' : { 'x' : db.ws(ws='Datas').index(row=12, col=12),\n",
    "                               'y' : db.ws(ws='Datas').index(row=13, col=12)},\n",
    "               'worm_orientation': db.ws(ws='Datas').index(row=2, col=4),\n",
    "               'microscope_magnification': db.ws(ws='Datas').index(row=1, col=4),\n",
    "               'microscope_pixel_size_in_nm' : db.ws(ws='Datas').index(row=1, col=5),\n",
    "               'image_magnification'         : db.ws(ws='Datas').index(row=3, col=4), \n",
    "               'image_pixel_size_in_um'      : db.ws(ws='Datas').index(row=3, col=5), \n",
    "               'worm_integrity'              : db.ws(ws='Datas').index(row=1, col=13),\n",
    "               'fit_edge_and_midline'        : db.ws(ws='Datas').index(row=2, col=13),\n",
    "               'optional_width'              : db.ws(ws='Datas').index(row=2, col=13),\n",
    "               'approximate_real_distance'   : db.ws(ws='Résultats').index(row=1, col=4),\n",
    "               'approximative_length/with'   : db.ws(ws='Résultats').index(row=2, col=2),\n",
    "               'left-right_difference'       : db.ws(ws='Résultats').index(row=1, col=16)}\n",
    "\n",
    "    return dataset\n"
   ]
  }
 ],
 "metadata": {
  "kernelspec": {
   "display_name": "Python 3",
   "language": "python",
   "name": "python3"
  },
  "language_info": {
   "codemirror_mode": {
    "name": "ipython",
    "version": 3
   },
   "file_extension": ".py",
   "mimetype": "text/x-python",
   "name": "python",
   "nbconvert_exporter": "python",
   "pygments_lexer": "ipython3",
   "version": "3.8.6"
  }
 },
 "nbformat": 4,
 "nbformat_minor": 4
}
